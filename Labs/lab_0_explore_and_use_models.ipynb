{
 "cells": [
  {
   "cell_type": "markdown",
   "metadata": {},
   "source": [
    "# Explore and use Azure OpenAI models from code"
   ]
  },
  {
   "cell_type": "markdown",
   "metadata": {},
   "source": [
    "### OpenAI Client Library\n",
    "\n",
    "When integrating Azure OpenAI service in a solution written in Python, the OpenAI Python client library is used. This library is maintained by OpenAI, and is compatible with the Azure OpenAI service.\n",
    "\n",
    "When using the OpenAI client library, the Azure OpenAI `key` and `endpoint` for the service are needed. In this case, ensure the Azure OpenAI `key` and `endpoint` is located in a `.env` file in the root of this project, you will need to create this file. The `.env` file should contain the following values (replace the value with your own `key` and `endpoint`):\n",
    "\n",
    "```\n",
    "AOAI_ENDPOINT = \"https://<resource>.openai.azure.com/\"\n",
    "\n",
    "AOAI_KEY = \"<key>\"\n",
    "```"
   ]
  },
  {
   "cell_type": "markdown",
   "metadata": {},
   "source": [
    "The following imports are neded in python so the app can use the OpenAI library, as well as `os` to access the environment variables, and `dotenv` is used here to load environment variables from the `.env` file."
   ]
  },
  {
   "cell_type": "code",
   "execution_count": null,
   "metadata": {},
   "outputs": [],
   "source": [
    "import os\n",
    "from openai import AzureOpenAI\n",
    "from dotenv import load_dotenv\n",
    "\n",
    "load_dotenv()"
   ]
  },
  {
   "cell_type": "markdown",
   "metadata": {},
   "source": [
    "## Chat completions\n",
    "\n",
    "Create the Azure OpenAi client to call the Azure OpenAI **Chat completion** API: "
   ]
  },
  {
   "cell_type": "code",
   "execution_count": 5,
   "metadata": {},
   "outputs": [],
   "source": [
    "chatClient = AzureOpenAI(\n",
    "  azure_endpoint=os.getenv(\"AOAI_ENDPOINT\"), \n",
    "  api_key=os.getenv(\"AOAI_KEY\"),  \n",
    "  api_version=\"2024-06-01\"\n",
    ")"
   ]
  },
  {
   "cell_type": "markdown",
   "metadata": {},
   "source": [
    "> **Note**: The `api_version` is included to specify the API version for calls to the Azure OpenAI service."
   ]
  },
  {
   "cell_type": "markdown",
   "metadata": {},
   "source": [
    "Once the Azure OpenAI client to be used for **Chat completion** has been created, the next step is to call the `.chat.completions.create()` method on the client to perform a chat completion."
   ]
  },
  {
   "cell_type": "code",
   "execution_count": null,
   "metadata": {},
   "outputs": [],
   "source": [
    "chatResponse = chatClient.chat.completions.create(\n",
    "    model=\"completions\",\n",
    "    messages=[\n",
    "        {\"role\": \"system\", \"content\": \"You are a helpful, fun and friendly sales assistant for Cosmic Works, a bicycle and bicycle accessories store.\"},\n",
    "        {\"role\": \"user\", \"content\": \"Do you sell bicycles?\"},\n",
    "        {\"role\": \"assistant\", \"content\": \"Yes, we do sell bicycles. What kind of bicycle are you looking for?\"},\n",
    "        {\"role\": \"user\", \"content\": \"I'm not sure what I'm looking for. Could you help me decide?\"}\n",
    "    ]\n",
    ")\n",
    "\n",
    "print(chatResponse.choices[0].message.content)"
   ]
  },
  {
   "cell_type": "markdown",
   "metadata": {},
   "source": [
    "> **Note**: The [`openai` Python library documentation](https://platform.openai.com/docs/guides/text-generation/chat-completions-api) has further information on making Chat Completion calls to the service."
   ]
  }
 ],
 "metadata": {
  "kernelspec": {
   "display_name": "Python 3",
   "language": "python",
   "name": "python3"
  },
  "language_info": {
   "codemirror_mode": {
    "name": "ipython",
    "version": 3
   },
   "file_extension": ".py",
   "mimetype": "text/x-python",
   "name": "python",
   "nbconvert_exporter": "python",
   "pygments_lexer": "ipython3",
   "version": "3.11.5"
  }
 },
 "nbformat": 4,
 "nbformat_minor": 2
}
