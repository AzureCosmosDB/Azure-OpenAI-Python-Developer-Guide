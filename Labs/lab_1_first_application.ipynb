{
 "cells": [
  {
   "cell_type": "markdown",
   "metadata": {},
   "source": [
    "# First Cosmos DB for NoSQL application"
   ]
  },
  {
   "cell_type": "code",
   "execution_count": 5,
   "metadata": {},
   "outputs": [],
   "source": [
    "import os\n",
    "from azure.cosmos import CosmosClient, DatabaseProxy, ContainerProxy\n",
    "from pydantic import BaseModel\n",
    "from typing import Type, TypeVar, List\n",
    "from pprint import pprint\n",
    "from dotenv import load_dotenv\n",
    "from models import Product"
   ]
  },
  {
   "cell_type": "markdown",
   "metadata": {},
   "source": [
    "## Create a database\n",
    "\n",
    "Ensure the Cosmos DB account connection string is located in a `.env` file in the root of the project, you will need to create this file. The `.env` file should contain the following value (replace the value with your own connection string):\n",
    "\n",
    "COSMOS_DB_CONNECTION_STRING=\"cosmos__db__connection_string\"\n",
    "\n",
    ">**Note**: If you are running using the **local emulator**, append the following value to the connection string: `&retrywrites=false&tlsallowinvalidcertificates=true`.\n",
    "\n",
    "To create a NoSQL database in Cosmos DB, first instantiate a `CosmosClient` object. Before attempting to create the database, check for its existence using the `list_databases` method, as trying to create a database that already exists will raise an exception. If the database does not exist, create it using the `create_database` method, passing the database name as an argument. If the database already exists, you can load it by calling the `get_database_client` method with the database name as an argument."
   ]
  },
  {
   "cell_type": "code",
   "execution_count": null,
   "metadata": {},
   "outputs": [],
   "source": [
    "load_dotenv()\n",
    "CONNECTION_STRING = os.environ.get(\"COSMOS_DB_CONNECTION_STRING\")\n",
    "\n",
    "# Initialize the Cosmos DB client\n",
    "client = CosmosClient.from_connection_string(CONNECTION_STRING)\n",
    "\n",
    "# Create or load the cosmic_works database\n",
    "database_name = \"cosmic_works\"\n",
    "db = None\n",
    "databases = list(client.list_databases())\n",
    "# Check if the database already exists\n",
    "for db_info in databases:\n",
    "    if db_info['id'] == database_name:\n",
    "        db = client.get_database_client(database_name)\n",
    "        print(f\"Database '{database_name}' already exists and has been retrieved.\")\n",
    "        break\n",
    "\n",
    "# Create the database if it does not exist\n",
    "if not db:\n",
    "    db: DatabaseProxy = client.create_database(database_name)\n",
    "    print(f\"Database '{database_name}' created successfully.\")"
   ]
  },
  {
   "cell_type": "markdown",
   "metadata": {},
   "source": [
    "## Create a container\n",
    "\n",
    "There is a handy method that can be used to create a container in the database `create_container_if_not_exists` that allows for the creation of a container if it does not already exist, or retrieves it if it does. In this case, the `product` container is created to store product information.\n",
    "\n",
    "When creating a container, the partition key is required. Partition keys in Azure Cosmos DB are critical for ensuring scalable and efficient performance. They function as logical sharding mechanisms, distributing data across multiple partitions to balance the load and optimize query performance. It is referenced as a JSON path within the item being stored, prefixed with a `/`. Choosing an effective partition key affects the throughput, latency, and overall efficiency of database operations. Learn more about [partitioning in Azure Cosmos DB](https://learn.microsoft.com/azure/cosmos-db/partitioning-overview)."
   ]
  },
  {
   "cell_type": "code",
   "execution_count": 3,
   "metadata": {},
   "outputs": [],
   "source": [
    "container: ContainerProxy = db.create_container_if_not_exists(\n",
    "           id=\"product\",\n",
    "           partition_key={\"paths\": [\"/categoryId\"], \"kind\": \"Hash\"}\n",
    "       )"
   ]
  },
  {
   "cell_type": "markdown",
   "metadata": {},
   "source": [
    "## Create or Update a document (Upsert)\n",
    "\n",
    "Documents in Cosmos DB for NoSQL API are represented as JSON objects. In this lab, the Pydantic library is used to create a model for the document. This model is then used to create a document in the database using built-in serialization methods. Find the models in the `models` folder. Notice the class property definitions include aliases, these aliases can be used to override the serialized property names. This is useful when the property names in the model do not match the property names desired in the database.\n",
    "\n",
    "One method of creating a document is using the `create_item` method. This method takes a single document and inserts it into the database, if the item already exists in the container, and exception is thrown. Alternatively, the `upsert_item` method can also be used to insert a document into the database and in this case, if the document already exists, it will be updated."
   ]
  },
  {
   "cell_type": "code",
   "execution_count": null,
   "metadata": {},
   "outputs": [],
   "source": [
    "product = Product(\n",
    "        id=\"2BA4A26C-A8DB-4645-BEB9-F7D42F50262E\",    \n",
    "        category_id=\"56400CF3-446D-4C3F-B9B2-68286DA3BB99\", \n",
    "        category_name=\"Bikes, Mountain Bikes\", \n",
    "        sku=\"BK-M18S-42\",\n",
    "        name=\"Mountain-100 Silver, 42\",\n",
    "        description='The product called \"Mountain-500 Silver, 42\"',\n",
    "        price=742.42,\n",
    "       )\n",
    "\n",
    "# Upsert the product into the container by converting it to a dictionary using the alias names where present.\n",
    "container.upsert_item(product.model_dump(by_alias=True))\n",
    "\n",
    "print(f\"Upserted product with ID: {product.id}\")"
   ]
  },
  {
   "cell_type": "markdown",
   "metadata": {},
   "source": [
    "## Read a document\n",
    "\n",
    "To read a document from the database, use the `read_item` method. This method takes the partition key and the document id as arguments and returns the document. If the document does not exist, an exception is thrown. The `query_items` method can also be used to retrieve documents from the database. This method takes a query string as an argument and returns a list of documents that match the query.\n",
    "\n",
    "In this case, the `query_items` method is used to retrieve the document from the container as it is desired to retrieve the record without also having to provide the partition key."
   ]
  },
  {
   "cell_type": "code",
   "execution_count": null,
   "metadata": {},
   "outputs": [],
   "source": [
    "# Create a generic helper function to retrieve a an item from a container by its id value\n",
    "T = TypeVar('T', bound=BaseModel)\n",
    "def query_item_by_id(container, id, model: Type[T]) -> T:\n",
    "    query = \"SELECT * FROM itm WHERE itm.id = @id\"\n",
    "    parameters = [\n",
    "        {\"name\": \"@id\", \"value\": id}\n",
    "    ]    \n",
    "    item = list(container.query_items(\n",
    "        query=query,\n",
    "        parameters=parameters,\n",
    "        enable_cross_partition_query=True\n",
    "    ))[0]\n",
    "    return model(**item)\n",
    "   \n",
    "# Retrieve the product from the container by its id and cast it to the Product model\n",
    "retrieved_product = query_item_by_id(container, product.id, Product)\n",
    "\n",
    "# Print the retrieved product\n",
    "print(\"\\nCast Product from document retrieved from Cosmos DB:\")\n",
    "print(retrieved_product)"
   ]
  },
  {
   "cell_type": "markdown",
   "metadata": {},
   "source": [
    "## Delete a document\n",
    "\n",
    "The `delete_item` method is used to delete a single document from the database. This method takes the `id` and `partition_key` as arguments and deletes the document. If the document does not exist, an exception is thrown."
   ]
  },
  {
   "cell_type": "code",
   "execution_count": null,
   "metadata": {},
   "outputs": [],
   "source": [
    "container.delete_item(item=retrieved_product.id, partition_key=retrieved_product.category_id)\n",
    "print(f\"Deleted the product with ID: {retrieved_product.id}\")"
   ]
  },
  {
   "cell_type": "markdown",
   "metadata": {},
   "source": [
    "## Query for multiple documents\n",
    "\n",
    "The `query_items` method is used to query for multiple documents in the database. This method takes a query string to perform a [SQL-like query](https://learn.microsoft.com/azure/cosmos-db/nosql/tutorial-query) on the documents in the container, retrieving all documents that match the query."
   ]
  },
  {
   "cell_type": "code",
   "execution_count": null,
   "metadata": {},
   "outputs": [],
   "source": [
    "# Insert multiple documents\n",
    "products = [\n",
    "    Product(\n",
    "        id=\"2BA4A26C-A8DB-4645-BEB9-F7D42F50262E\",    \n",
    "        category_id=\"56400CF3-446D-4C3F-B9B2-68286DA3BB99\", \n",
    "        category_name=\"Bikes, Mountain Bikes\", \n",
    "        sku=\"BK-M18S-42\",\n",
    "        name=\"Mountain-100 Silver, 42\",\n",
    "        description='The product called \"Mountain-500 Silver, 42\"',\n",
    "        price=742.42\n",
    "       ),\n",
    "    Product(\n",
    "        id=\"027D0B9A-F9D9-4C96-8213-C8546C4AAE71\",    \n",
    "        category_id=\"26C74104-40BC-4541-8EF5-9892F7F03D72\", \n",
    "        category_name=\"Components, Saddles\", \n",
    "        sku=\"SE-R581\",\n",
    "        name=\"LL Road Seat/Saddle\",\n",
    "        description='The product called \"LL Road Seat/Saddle\"',\n",
    "        price=27.12\n",
    "       ),\n",
    "    Product(\n",
    "        id = \"4E4B38CB-0D82-43E5-89AF-20270CD28A04\",\n",
    "        category_id = \"75BF1ACB-168D-469C-9AA3-1FD26BB4EA4C\",\n",
    "        category_name = \"Bikes, Touring Bikes\",\n",
    "        sku = \"BK-T44U-60\",\n",
    "        name = \"Touring-2000 Blue, 60\",\n",
    "        description = 'The product called Touring-2000 Blue, 60\"',\n",
    "        price = 1214.85\n",
    "       ),\n",
    "    Product(\n",
    "        id = \"5B5E90B8-FEA2-4D6C-B728-EC586656FA6D\",\n",
    "        category_id = \"75BF1ACB-168D-469C-9AA3-1FD26BB4EA4C\",\n",
    "        category_name = \"Bikes, Touring Bikes\",\n",
    "        sku = \"BK-T79Y-60\",\n",
    "        name = \"Touring-1000 Yellow, 60\",\n",
    "        description = 'The product called Touring-1000 Yellow, 60\"',\n",
    "        price = 2384.07\n",
    "       ),\n",
    "    Product(\n",
    "        id = \"7BAA49C9-21B5-4EEF-9F6B-BCD6DA7C2239\",\n",
    "        category_id = \"26C74104-40BC-4541-8EF5-9892F7F03D72\",\n",
    "        category_name = \"Components, Saddles\",\n",
    "        sku = \"SE-R995\",\n",
    "        name = \"HL Road Seat/Saddle\",\n",
    "        description = 'The product called \"HL Road Seat/Saddle\"',\n",
    "        price = 52.64,\n",
    "       )\n",
    "]\n",
    "for product in products:\n",
    "    container.upsert_item(product.model_dump(by_alias=True))\n",
    "    print(f\"Upserted product with ID: {product.id}\")\n",
    "\n",
    "# Create generic helper function to query items a container.\n",
    "# This function re-uses the TypeVar and BaseModel from the Read a document example.\n",
    "def query_items(container, query, model: Type[T]) -> List[T]:\n",
    "    query = query\n",
    "    items = container.query_items(query=query, enable_cross_partition_query=True)\n",
    "    return [model(**item) for item in items]\n",
    "\n",
    "# retrieve all products via a query\n",
    "retrieved_products = query_items(container,\"SELECT * FROM prod\", Product)\n",
    "print(f\"Retrieved: {len(retrieved_products)} products\")\n"
   ]
  },
  {
   "cell_type": "code",
   "execution_count": null,
   "metadata": {},
   "outputs": [],
   "source": [
    "# Print all documents that have a category name of \"Components, Saddles\"\n",
    "for result in query_items(container, \"SELECT * FROM prod WHERE prod.categoryName='Components, Saddles'\", Product):    \n",
    "    pprint(result)"
   ]
  },
  {
   "cell_type": "markdown",
   "metadata": {},
   "source": [
    "## Clean up resources\n",
    "\n",
    "The following cell will delete the database and container created in this lab. This is done by using the `delete_database` method on the database object. This method takes the name of the database to delete as an argument. If it is desired to simply delete the container, the `delete_container` method can be used on the database object. This method takes the name of the container to delete as an argument."
   ]
  },
  {
   "cell_type": "code",
   "execution_count": 10,
   "metadata": {},
   "outputs": [],
   "source": [
    "# db.delete_container(\"products\")\n",
    "client.delete_database(\"cosmic_works\")"
   ]
  }
 ],
 "metadata": {
  "kernelspec": {
   "display_name": ".venv",
   "language": "python",
   "name": "python3"
  },
  "language_info": {
   "codemirror_mode": {
    "name": "ipython",
    "version": 3
   },
   "file_extension": ".py",
   "mimetype": "text/x-python",
   "name": "python",
   "nbconvert_exporter": "python",
   "pygments_lexer": "ipython3",
   "version": "3.11.5"
  }
 },
 "nbformat": 4,
 "nbformat_minor": 2
}
