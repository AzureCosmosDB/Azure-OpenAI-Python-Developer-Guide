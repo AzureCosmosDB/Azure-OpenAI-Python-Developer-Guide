{
 "cells": [
  {
   "cell_type": "markdown",
   "metadata": {},
   "source": [
    "# Load data into Cosmos DB for NosQL API\n",
    "\n",
    "This notebook demonstrates how to load data into Cosmos DB from Cosmic Works JSON files from Azure Storage into the database using the NoSQL API."
   ]
  },
  {
   "cell_type": "code",
   "execution_count": 1,
   "metadata": {},
   "outputs": [],
   "source": [
    "import os\n",
    "import json\n",
    "import requests\n",
    "from models import Product, ProductList, Customer, CustomerList, SalesOrder, SalesOrderList\n",
    "from azure.cosmos import CosmosClient, DatabaseProxy, ContainerProxy\n",
    "from dotenv import load_dotenv"
   ]
  },
  {
   "cell_type": "markdown",
   "metadata": {},
   "source": [
    "## Establish a connection to the database"
   ]
  },
  {
   "cell_type": "code",
   "execution_count": 2,
   "metadata": {},
   "outputs": [
    {
     "name": "stdout",
     "output_type": "stream",
     "text": [
      "Database 'cosmic_works' already exists and has been retrieved.\n"
     ]
    }
   ],
   "source": [
    "load_dotenv()\n",
    "CONNECTION_STRING = os.environ.get(\"COSMOS_DB_CONNECTION_STRING\")\n",
    "\n",
    "# Initialize the Cosmos DB client\n",
    "client = CosmosClient.from_connection_string(CONNECTION_STRING)\n",
    "\n",
    "# Create or load the cosmic_works database\n",
    "database_name = \"cosmic_works\"\n",
    "db = None\n",
    "databases = list(client.list_databases())\n",
    "# Check if the database already exists\n",
    "for db_info in databases:\n",
    "    if db_info['id'] == database_name:\n",
    "        db = client.get_database_client(database_name)\n",
    "        print(f\"Database '{database_name}' already exists and has been retrieved.\")\n",
    "        break\n",
    "\n",
    "# Create the database if it does not exist\n",
    "if not db:\n",
    "    db: DatabaseProxy = client.create_database(database_name)\n",
    "    print(f\"Database '{database_name}' created successfully.\")"
   ]
  },
  {
   "cell_type": "markdown",
   "metadata": {},
   "source": [
    "## Load products"
   ]
  },
  {
   "cell_type": "code",
   "execution_count": 3,
   "metadata": {},
   "outputs": [],
   "source": [
    "# Add product data to database using upsert\n",
    "# Get cosmic works product data from github\n",
    "product_raw_data = \"https://cosmosdbcosmicworks.blob.core.windows.net/cosmic-works-small/product.json\"\n",
    "product_data = ProductList(items=[Product(**data) for data in requests.get(product_raw_data).json()])\n",
    "\n",
    "# Create or retrieve the product container\n",
    "product_container: ContainerProxy = db.create_container_if_not_exists(\n",
    "           id=\"product\",\n",
    "           partition_key={\"paths\": [\"/categoryId\"], \"kind\": \"Hash\"}\n",
    "       )\n",
    "\n",
    "# Upsert the product data to the container\n",
    "for product in product_data.items:\n",
    "    product_container.upsert_item(product.model_dump(by_alias=True))"
   ]
  },
  {
   "cell_type": "markdown",
   "metadata": {},
   "source": [
    "## Load customers and sales raw data\n",
    "\n",
    "In this repository, the customer and sales data are stored in the same file. The `type` field is used to differentiate between the two types of documents."
   ]
  },
  {
   "cell_type": "code",
   "execution_count": 4,
   "metadata": {},
   "outputs": [],
   "source": [
    "customer_sales_raw_data = \"https://cosmosdbcosmicworks.blob.core.windows.net/cosmic-works-small/customer.json\"\n",
    "response = requests.get(customer_sales_raw_data)\n",
    "# override decoding\n",
    "response.encoding = 'utf-8-sig'\n",
    "response_json = response.json()\n",
    "# filter where type is customer\n",
    "customers = [cust for cust in response_json if cust[\"type\"] == \"customer\"]\n",
    "# filter where type is salesOrder\n",
    "sales_orders = [sales for sales in response_json if sales[\"type\"] == \"salesOrder\"]"
   ]
  },
  {
   "cell_type": "markdown",
   "metadata": {},
   "source": [
    "## Load customers"
   ]
  },
  {
   "cell_type": "code",
   "execution_count": 5,
   "metadata": {},
   "outputs": [],
   "source": [
    "customer_data = CustomerList(items=[Customer(**data) for data in customers])\n",
    "# Create or retrieve the customer container\n",
    "customer_container: ContainerProxy = db.create_container_if_not_exists(\n",
    "           id=\"customer\",\n",
    "           partition_key={\"paths\": [\"/customerId\"], \"kind\": \"Hash\"}\n",
    "       )\n",
    "\n",
    "# Upsert the customer data to the container\n",
    "for customer in customer_data.items:\n",
    "    # Use json encoding to work around issue with datetime serialization\n",
    "    customer_json = customer.model_dump_json(by_alias=True)\n",
    "    customer_dict = json.loads(customer_json)\n",
    "    customer_container.upsert_item(customer_dict)"
   ]
  },
  {
   "cell_type": "markdown",
   "metadata": {},
   "source": [
    "## Load sales orders"
   ]
  },
  {
   "cell_type": "code",
   "execution_count": 6,
   "metadata": {},
   "outputs": [],
   "source": [
    "sales_order_data = SalesOrderList(items=[SalesOrder(**data) for data in sales_orders])\n",
    "# Create or retrieve the salesOrder container\n",
    "sales_order_container: ContainerProxy = db.create_container_if_not_exists(\n",
    "           id=\"salesOrder\",\n",
    "           partition_key={\"paths\": [\"/customerId\"], \"kind\": \"Hash\"}\n",
    "       )\n",
    "\n",
    "# Upsert the sales order data to the container, this will take approximately 1.5 minutes to run\n",
    "for sales_order in sales_order_data.items:\n",
    "    # Use json encoding to work around issue with datetime serialization\n",
    "    sales_order_json = sales_order.model_dump_json(by_alias=True)\n",
    "    sales_order_dict = json.loads(sales_order_json)\n",
    "    sales_order_container.upsert_item(sales_order_dict)"
   ]
  },
  {
   "cell_type": "markdown",
   "metadata": {},
   "source": [
    "## Clean up\n",
    "\n",
    "No clean up is necessary as this data is used in subsequent labs."
   ]
  }
 ],
 "metadata": {
  "kernelspec": {
   "display_name": ".venv",
   "language": "python",
   "name": "python3"
  },
  "language_info": {
   "codemirror_mode": {
    "name": "ipython",
    "version": 3
   },
   "file_extension": ".py",
   "mimetype": "text/x-python",
   "name": "python",
   "nbconvert_exporter": "python",
   "pygments_lexer": "ipython3",
   "version": "3.11.5"
  }
 },
 "nbformat": 4,
 "nbformat_minor": 2
}
