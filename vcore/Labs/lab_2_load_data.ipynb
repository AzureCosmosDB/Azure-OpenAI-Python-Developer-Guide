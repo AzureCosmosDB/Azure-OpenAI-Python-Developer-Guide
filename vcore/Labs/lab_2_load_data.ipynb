{
 "cells": [
  {
   "cell_type": "markdown",
   "metadata": {},
   "source": [
    "# Load data into Cosmos DB using the MongoDB API\n",
    "\n",
    "This notebook demonstrates how to load data into Cosmos DB from Cosmic Works JSON files into the database using the MongoDB API."
   ]
  },
  {
   "cell_type": "code",
   "execution_count": null,
   "metadata": {},
   "outputs": [],
   "source": [
    "import os\n",
    "import pymongo\n",
    "import requests\n",
    "from pymongo import UpdateOne, DeleteMany\n",
    "from models import Product, ProductList, Customer, CustomerList, SalesOrder, SalesOrderList\n",
    "from dotenv import load_dotenv"
   ]
  },
  {
   "cell_type": "markdown",
   "metadata": {},
   "source": [
    "## Establish a connection to the database"
   ]
  },
  {
   "cell_type": "code",
   "execution_count": null,
   "metadata": {},
   "outputs": [],
   "source": [
    "load_dotenv()\n",
    "CONNECTION_STRING = os.environ.get(\"DB_CONNECTION_STRING\")\n",
    "client = pymongo.MongoClient(CONNECTION_STRING)\n",
    "# Create database to hold cosmic works data\n",
    "# MongoDB will create the database if it does not exist\n",
    "db = client.cosmic_works"
   ]
  },
  {
   "cell_type": "code",
   "execution_count": null,
   "metadata": {},
   "outputs": [],
   "source": [
    "# empty the collections\n",
    "db.products.bulk_write([DeleteMany({})])\n",
    "db.customers.bulk_write([DeleteMany({})])\n",
    "db.sales.bulk_write([DeleteMany({})])"
   ]
  },
  {
   "cell_type": "markdown",
   "metadata": {},
   "source": [
    "## Load products"
   ]
  },
  {
   "cell_type": "code",
   "execution_count": null,
   "metadata": {},
   "outputs": [],
   "source": [
    "# Add product data to database using bulkwrite and updateOne with upsert\n",
    "# Get cosmic works product data from github\n",
    "product_raw_data = \"https://cosmosdbcosmicworks.blob.core.windows.net/cosmic-works-small/product.json\"\n",
    "product_data = ProductList(items=[Product(**data) for data in requests.get(product_raw_data).json()])\n",
    "db.products.bulk_write([ UpdateOne({\"_id\": prod.id}, {\"$set\": prod.model_dump(by_alias=True)}, upsert=True) for prod in product_data.items])"
   ]
  },
  {
   "cell_type": "markdown",
   "metadata": {},
   "source": [
    "## Load customers and sales raw data\n",
    "\n",
    "In this repository, the customer and sales data are stored in the same file. The `type` field is used to differentiate between the two types of documents."
   ]
  },
  {
   "cell_type": "code",
   "execution_count": null,
   "metadata": {},
   "outputs": [],
   "source": [
    "customer_sales_raw_data = \"https://cosmosdbcosmicworks.blob.core.windows.net/cosmic-works-small/customer.json\"\n",
    "response = requests.get(customer_sales_raw_data)\n",
    "# override decoding\n",
    "response.encoding = 'utf-8-sig'\n",
    "response_json = response.json()\n",
    "# filter where type is customer\n",
    "customers = [cust for cust in response_json if cust[\"type\"] == \"customer\"]\n",
    "# filter where type is salesOrder\n",
    "sales_orders = [sales for sales in response_json if sales[\"type\"] == \"salesOrder\"]"
   ]
  },
  {
   "cell_type": "markdown",
   "metadata": {},
   "source": [
    "## Load customers"
   ]
  },
  {
   "cell_type": "code",
   "execution_count": null,
   "metadata": {},
   "outputs": [],
   "source": [
    "customer_data = CustomerList(items=[Customer(**data) for data in customers])\n",
    "db.customers.bulk_write([ UpdateOne({\"_id\": cust.id}, {\"$set\": cust.model_dump(by_alias=True)}, upsert=True) for cust in customer_data.items])"
   ]
  },
  {
   "cell_type": "markdown",
   "metadata": {},
   "source": [
    "## Load sales orders"
   ]
  },
  {
   "cell_type": "code",
   "execution_count": null,
   "metadata": {},
   "outputs": [],
   "source": [
    "sales_data = SalesOrderList(items=[SalesOrder(**data) for data in sales_orders])\n",
    "db.sales.bulk_write([ UpdateOne({\"_id\": sale.id}, {\"$set\": sale.model_dump(by_alias=True)}, upsert=True) for sale in sales_data.items])"
   ]
  },
  {
   "cell_type": "markdown",
   "metadata": {},
   "source": [
    "## Clean up"
   ]
  },
  {
   "cell_type": "code",
   "execution_count": null,
   "metadata": {},
   "outputs": [],
   "source": [
    "client.close()"
   ]
  }
 ],
 "metadata": {
  "kernelspec": {
   "display_name": ".venv",
   "language": "python",
   "name": "python3"
  },
  "language_info": {
   "codemirror_mode": {
    "name": "ipython",
    "version": 3
   },
   "file_extension": ".py",
   "mimetype": "text/x-python",
   "name": "python",
   "nbconvert_exporter": "python",
   "pygments_lexer": "ipython3",
   "version": "3.11.5"
  }
 },
 "nbformat": 4,
 "nbformat_minor": 2
}
